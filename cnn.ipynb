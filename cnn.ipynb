{
 "cells": [
  {
   "cell_type": "markdown",
   "id": "92fcb7c9",
   "metadata": {},
   "source": [
    "#                                           Cat and Dog Image Classifier\n",
    "Business Problem : Develop an image  classification model to distinguish between images of cats and gogs using data science techniques in python"
   ]
  },
  {
   "cell_type": "code",
   "execution_count": 1,
   "id": "59225e99",
   "metadata": {},
   "outputs": [],
   "source": [
    "import tensorflow as tf\n",
    "import keras\n",
    "import pandas as pd"
   ]
  },
  {
   "cell_type": "code",
   "execution_count": 2,
   "id": "8f3dd6e8",
   "metadata": {},
   "outputs": [],
   "source": [
    "from keras.preprocessing.image import ImageDataGenerator"
   ]
  },
  {
   "cell_type": "code",
   "execution_count": 3,
   "id": "1914f010",
   "metadata": {},
   "outputs": [],
   "source": [
    "train=ImageDataGenerator(rescale=1/255,shear_range=0.2,zoom_range=0.2)"
   ]
  },
  {
   "cell_type": "code",
   "execution_count": 4,
   "id": "0f50fec4",
   "metadata": {},
   "outputs": [
    {
     "name": "stdout",
     "output_type": "stream",
     "text": [
      "Found 8048 images belonging to 2 classes.\n"
     ]
    }
   ],
   "source": [
    "training_set=train.flow_from_directory(\"C:\\\\Users\\\\Kokat\\\\OneDrive\\\\Desktop\\\\data science practise section\\\\dataset\\\\training_set\",\n",
    "                                       target_size=(64,64),\n",
    "                                       class_mode=\"binary\")"
   ]
  },
  {
   "cell_type": "code",
   "execution_count": 5,
   "id": "6fec265b",
   "metadata": {},
   "outputs": [
    {
     "data": {
      "text/plain": [
       "{'cats': 0, 'dogs': 1}"
      ]
     },
     "execution_count": 5,
     "metadata": {},
     "output_type": "execute_result"
    }
   ],
   "source": [
    "training_set.class_indices"
   ]
  },
  {
   "cell_type": "code",
   "execution_count": 6,
   "id": "e8f89e98",
   "metadata": {},
   "outputs": [
    {
     "name": "stdout",
     "output_type": "stream",
     "text": [
      "Found 2000 images belonging to 2 classes.\n"
     ]
    }
   ],
   "source": [
    "test_datagen=ImageDataGenerator(rescale=1/255)\n",
    "test_set=test_datagen.flow_from_directory(\"C:\\\\Users\\\\Kokat\\\\OneDrive\\\\Desktop\\\\data science practise section\\\\dataset\\\\test_set\",target_size=(64,64),class_mode=\"binary\")"
   ]
  },
  {
   "cell_type": "markdown",
   "id": "8c4ce3b6",
   "metadata": {},
   "source": [
    "# Modelling -Convolution Neural Network \n",
    "\n",
    "Initialising the CNN"
   ]
  },
  {
   "cell_type": "code",
   "execution_count": 6,
   "id": "e56cc58b",
   "metadata": {},
   "outputs": [],
   "source": [
    "from keras.models import Sequential\n",
    "classifier=Sequential()"
   ]
  },
  {
   "cell_type": "markdown",
   "id": "dbba0ed4",
   "metadata": {},
   "source": [
    "# Step-1 : Convolution"
   ]
  },
  {
   "cell_type": "code",
   "execution_count": 7,
   "id": "1a4bcf27",
   "metadata": {},
   "outputs": [],
   "source": [
    "from keras.layers import Conv2D\n",
    "classifier.add(Conv2D(input_shape=[64,64,3],filters=32,kernel_size=3,activation=\"relu\"))"
   ]
  },
  {
   "cell_type": "markdown",
   "id": "a5e9275d",
   "metadata": {},
   "source": [
    "# Step-2 : Max Pooling"
   ]
  },
  {
   "cell_type": "code",
   "execution_count": 8,
   "id": "daa494b8",
   "metadata": {},
   "outputs": [],
   "source": [
    "from keras.layers import MaxPooling2D\n",
    "classifier.add(MaxPooling2D(pool_size=2,strides=2))"
   ]
  },
  {
   "cell_type": "markdown",
   "id": "c1d71257",
   "metadata": {},
   "source": [
    "# Step-3 : Flattening"
   ]
  },
  {
   "cell_type": "code",
   "execution_count": 9,
   "id": "09fb900f",
   "metadata": {},
   "outputs": [],
   "source": [
    "from keras.layers import Flatten\n",
    "classifier.add(Flatten())"
   ]
  },
  {
   "cell_type": "markdown",
   "id": "b307a5f2",
   "metadata": {},
   "source": [
    "# Step -4 : Full Connection"
   ]
  },
  {
   "cell_type": "code",
   "execution_count": 10,
   "id": "651b482c",
   "metadata": {},
   "outputs": [],
   "source": [
    "from keras.layers import Dense\n",
    "classifier.add(Dense(units=128,activation=\"relu\"))\n",
    "\n",
    "classifier.add(Dense(units=1,activation=\"sigmoid\"))"
   ]
  },
  {
   "cell_type": "markdown",
   "id": "252fab1f",
   "metadata": {},
   "source": [
    " Training the CNN Model with train data &Testing the model with test data"
   ]
  },
  {
   "cell_type": "code",
   "execution_count": 11,
   "id": "ed2acb49",
   "metadata": {},
   "outputs": [],
   "source": [
    "classifier.compile(optimizer=\"adam\",loss=\"binary_crossentropy\",metrics=[\"accuracy\"])"
   ]
  },
  {
   "cell_type": "code",
   "execution_count": 13,
   "id": "31fc1d57",
   "metadata": {},
   "outputs": [
    {
     "name": "stdout",
     "output_type": "stream",
     "text": [
      "Epoch 1/10\n",
      "252/252 [==============================] - 41s 160ms/step - loss: 0.7060 - accuracy: 0.5490 - val_loss: 0.6376 - val_accuracy: 0.6545\n",
      "Epoch 2/10\n",
      "252/252 [==============================] - 41s 163ms/step - loss: 0.6310 - accuracy: 0.6439 - val_loss: 0.6082 - val_accuracy: 0.6820\n",
      "Epoch 3/10\n",
      "252/252 [==============================] - 43s 170ms/step - loss: 0.5900 - accuracy: 0.6938 - val_loss: 0.5795 - val_accuracy: 0.6975\n",
      "Epoch 4/10\n",
      "252/252 [==============================] - 40s 160ms/step - loss: 0.5658 - accuracy: 0.7126 - val_loss: 0.5598 - val_accuracy: 0.7170\n",
      "Epoch 5/10\n",
      "252/252 [==============================] - 85s 339ms/step - loss: 0.5398 - accuracy: 0.7306 - val_loss: 0.5494 - val_accuracy: 0.7310\n",
      "Epoch 6/10\n",
      "252/252 [==============================] - 96s 380ms/step - loss: 0.5243 - accuracy: 0.7379 - val_loss: 0.5733 - val_accuracy: 0.7170\n",
      "Epoch 7/10\n",
      "252/252 [==============================] - 281s 1s/step - loss: 0.5095 - accuracy: 0.7489 - val_loss: 0.5420 - val_accuracy: 0.7290\n",
      "Epoch 8/10\n",
      "252/252 [==============================] - 103s 407ms/step - loss: 0.5011 - accuracy: 0.7537 - val_loss: 0.5559 - val_accuracy: 0.7305\n",
      "Epoch 9/10\n",
      "252/252 [==============================] - 94s 372ms/step - loss: 0.4921 - accuracy: 0.7556 - val_loss: 0.5434 - val_accuracy: 0.7335\n",
      "Epoch 10/10\n",
      "252/252 [==============================] - 92s 363ms/step - loss: 0.4883 - accuracy: 0.7639 - val_loss: 0.5463 - val_accuracy: 0.7360\n"
     ]
    },
    {
     "data": {
      "text/plain": [
       "<keras.src.callbacks.History at 0x2d8b9ded3d0>"
      ]
     },
     "execution_count": 13,
     "metadata": {},
     "output_type": "execute_result"
    }
   ],
   "source": [
    "classifier.fit(x=training_set,validation_data=test_set,epochs=10)"
   ]
  },
  {
   "cell_type": "markdown",
   "id": "9aa095ce",
   "metadata": {},
   "source": [
    "# Evalution\n",
    "making a single prediction"
   ]
  },
  {
   "cell_type": "code",
   "execution_count": 12,
   "id": "c390a8b1",
   "metadata": {},
   "outputs": [],
   "source": [
    "import numpy as np\n",
    "from PIL import Image"
   ]
  },
  {
   "cell_type": "code",
   "execution_count": 13,
   "id": "17b50c66",
   "metadata": {},
   "outputs": [
    {
     "name": "stdout",
     "output_type": "stream",
     "text": [
      "1/1 [==============================] - 1s 691ms/step\n",
      "Dog\n"
     ]
    }
   ],
   "source": [
    "test_image=Image.open(\"C:\\\\Users\\\\Kokat\\\\OneDrive\\\\Desktop\\\\data science practise section\\\\dataset\\\\single_prediction\\\\cat_or_dog_2.jpg\")\n",
    "\n",
    "test_image=test_image.resize((64,64))\n",
    "test_image=np.array(test_image)\n",
    "test_image=np.expand_dims(test_image,axis=0)\n",
    "\n",
    "result=classifier.predict(test_image)\n",
    "if result[0][0]==1:\n",
    "    print(\"Dog\")\n",
    "else:\n",
    "    print(\"Cat\")"
   ]
  },
  {
   "cell_type": "code",
   "execution_count": null,
   "id": "2f50ca2b",
   "metadata": {},
   "outputs": [],
   "source": []
  }
 ],
 "metadata": {
  "kernelspec": {
   "display_name": "Python 3 (ipykernel)",
   "language": "python",
   "name": "python3"
  },
  "language_info": {
   "codemirror_mode": {
    "name": "ipython",
    "version": 3
   },
   "file_extension": ".py",
   "mimetype": "text/x-python",
   "name": "python",
   "nbconvert_exporter": "python",
   "pygments_lexer": "ipython3",
   "version": "3.11.4"
  }
 },
 "nbformat": 4,
 "nbformat_minor": 5
}
